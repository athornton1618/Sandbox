{
  "nbformat": 4,
  "nbformat_minor": 0,
  "metadata": {
    "colab": {
      "name": "regex_fun.ipynb",
      "provenance": [],
      "authorship_tag": "ABX9TyMcJluLnE1hC9VT1Rwtoi64"
    },
    "kernelspec": {
      "name": "python3",
      "display_name": "Python 3"
    },
    "language_info": {
      "name": "python"
    }
  },
  "cells": [
    {
      "cell_type": "code",
      "metadata": {
        "id": "C5zDcHmUtJQD"
      },
      "source": [
        "import re"
      ],
      "execution_count": 1,
      "outputs": []
    },
    {
      "cell_type": "code",
      "metadata": {
        "colab": {
          "base_uri": "https://localhost:8080/"
        },
        "id": "wMDsVpvItN7x",
        "outputId": "c6a71eb7-9d97-4434-8ce3-c50f907f8895"
      },
      "source": [
        "word = 'apple'\n",
        "\n",
        "isHashtag = bool(re.search(r'(?<=#)\\w+',word))\n",
        "print(isHashtag)"
      ],
      "execution_count": null,
      "outputs": [
        {
          "output_type": "stream",
          "name": "stdout",
          "text": [
            "False\n"
          ]
        }
      ]
    },
    {
      "cell_type": "code",
      "metadata": {
        "colab": {
          "base_uri": "https://localhost:8080/"
        },
        "id": "fBMSpJcktZW1",
        "outputId": "880a86b3-1d41-4f35-f760-e2e596227737"
      },
      "source": [
        "word = '#apple'\n",
        "\n",
        "isHashtag = bool(re.search(r'(?<=#)\\w+',word))\n",
        "print(isHashtag)"
      ],
      "execution_count": null,
      "outputs": [
        {
          "output_type": "stream",
          "name": "stdout",
          "text": [
            "True\n"
          ]
        }
      ]
    },
    {
      "cell_type": "code",
      "metadata": {
        "colab": {
          "base_uri": "https://localhost:8080/"
        },
        "id": "F7geTAA9tcbI",
        "outputId": "6909ff9a-226f-4e18-dfd5-1b10580c0dba"
      },
      "source": [
        "word = 'banana#apple'\n",
        "\n",
        "isHashtag = bool(re.search(r'(?<=#)\\w+',word))\n",
        "print(isHashtag)"
      ],
      "execution_count": null,
      "outputs": [
        {
          "output_type": "stream",
          "name": "stdout",
          "text": [
            "True\n"
          ]
        }
      ]
    },
    {
      "cell_type": "code",
      "metadata": {
        "id": "zL2Eo20gUPL3",
        "outputId": "e08f6de0-37d3-485d-94a7-ce6419cb36e6",
        "colab": {
          "base_uri": "https://localhost:8080/"
        }
      },
      "source": [
        "word = 'apple'\n",
        "isHashtag = bool(re.search(r'^#',word))\n",
        "print(isHashtag)"
      ],
      "execution_count": 3,
      "outputs": [
        {
          "output_type": "stream",
          "name": "stdout",
          "text": [
            "False\n"
          ]
        }
      ]
    },
    {
      "cell_type": "code",
      "metadata": {
        "id": "lxNuOr2AUb03",
        "outputId": "e089bed7-df05-4d10-9e39-c067a9ee9b4d",
        "colab": {
          "base_uri": "https://localhost:8080/"
        }
      },
      "source": [
        "word = '#apple'\n",
        "isHashtag = bool(re.search(r'^#',word))\n",
        "print(isHashtag)"
      ],
      "execution_count": 4,
      "outputs": [
        {
          "output_type": "stream",
          "name": "stdout",
          "text": [
            "True\n"
          ]
        }
      ]
    },
    {
      "cell_type": "code",
      "metadata": {
        "id": "I01j87x5UdTE",
        "outputId": "365302b2-c25d-4c69-b78f-d26869a42955",
        "colab": {
          "base_uri": "https://localhost:8080/"
        }
      },
      "source": [
        "word = 'ap#ple'\n",
        "isHashtag = bool(re.search(r'^#',word))\n",
        "print(isHashtag)"
      ],
      "execution_count": 5,
      "outputs": [
        {
          "output_type": "stream",
          "name": "stdout",
          "text": [
            "False\n"
          ]
        }
      ]
    }
  ]
}