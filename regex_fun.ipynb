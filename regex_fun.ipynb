{
  "nbformat": 4,
  "nbformat_minor": 0,
  "metadata": {
    "colab": {
      "name": "regex_fun.ipynb",
      "provenance": [],
      "authorship_tag": "ABX9TyNktQt5IgJrOf3A16LAHgas",
      "include_colab_link": true
    },
    "kernelspec": {
      "name": "python3",
      "display_name": "Python 3"
    },
    "language_info": {
      "name": "python"
    }
  },
  "cells": [
    {
      "cell_type": "markdown",
      "metadata": {
        "id": "view-in-github",
        "colab_type": "text"
      },
      "source": [
        "<a href=\"https://colab.research.google.com/github/athornton1618/Sandbox/blob/main/regex_fun.ipynb\" target=\"_parent\"><img src=\"https://colab.research.google.com/assets/colab-badge.svg\" alt=\"Open In Colab\"/></a>"
      ]
    },
    {
      "cell_type": "code",
      "metadata": {
        "id": "C5zDcHmUtJQD"
      },
      "source": [
        "import re"
      ],
      "execution_count": 1,
      "outputs": []
    },
    {
      "cell_type": "code",
      "metadata": {
        "colab": {
          "base_uri": "https://localhost:8080/"
        },
        "id": "wMDsVpvItN7x",
        "outputId": "c6a71eb7-9d97-4434-8ce3-c50f907f8895"
      },
      "source": [
        "word = 'apple'\n",
        "\n",
        "isHashtag = bool(re.search(r'(?<=#)\\w+',word))\n",
        "print(isHashtag)"
      ],
      "execution_count": 3,
      "outputs": [
        {
          "output_type": "stream",
          "name": "stdout",
          "text": [
            "False\n"
          ]
        }
      ]
    },
    {
      "cell_type": "code",
      "metadata": {
        "colab": {
          "base_uri": "https://localhost:8080/"
        },
        "id": "fBMSpJcktZW1",
        "outputId": "880a86b3-1d41-4f35-f760-e2e596227737"
      },
      "source": [
        "word = '#apple'\n",
        "\n",
        "isHashtag = bool(re.search(r'(?<=#)\\w+',word))\n",
        "print(isHashtag)"
      ],
      "execution_count": 4,
      "outputs": [
        {
          "output_type": "stream",
          "name": "stdout",
          "text": [
            "True\n"
          ]
        }
      ]
    },
    {
      "cell_type": "code",
      "metadata": {
        "colab": {
          "base_uri": "https://localhost:8080/"
        },
        "id": "F7geTAA9tcbI",
        "outputId": "6909ff9a-226f-4e18-dfd5-1b10580c0dba"
      },
      "source": [
        "word = 'banana#apple'\n",
        "\n",
        "isHashtag = bool(re.search(r'(?<=#)\\w+',word))\n",
        "print(isHashtag)"
      ],
      "execution_count": 5,
      "outputs": [
        {
          "output_type": "stream",
          "name": "stdout",
          "text": [
            "True\n"
          ]
        }
      ]
    }
  ]
}