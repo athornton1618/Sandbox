{
  "nbformat": 4,
  "nbformat_minor": 0,
  "metadata": {
    "colab": {
      "name": "TupleExperiment.ipynb",
      "provenance": [],
      "authorship_tag": "ABX9TyPoPAm0Njhmu/s1Od3D52Rt",
      "include_colab_link": true
    },
    "kernelspec": {
      "name": "python3",
      "display_name": "Python 3"
    },
    "language_info": {
      "name": "python"
    }
  },
  "cells": [
    {
      "cell_type": "markdown",
      "metadata": {
        "id": "view-in-github",
        "colab_type": "text"
      },
      "source": [
        "<a href=\"https://colab.research.google.com/github/athornton1618/Sandbox/blob/main/TupleExperiment.ipynb\" target=\"_parent\"><img src=\"https://colab.research.google.com/assets/colab-badge.svg\" alt=\"Open In Colab\"/></a>"
      ]
    },
    {
      "cell_type": "code",
      "metadata": {
        "colab": {
          "base_uri": "https://localhost:8080/"
        },
        "id": "PnF48DpykzWO",
        "outputId": "4d5a4e3b-1ee3-4133-b903-6d68346288c6"
      },
      "source": [
        "SimpleTup = (\"A\",\"B\",\"C\")\n",
        "print(SimpleTup[0])"
      ],
      "execution_count": 2,
      "outputs": [
        {
          "output_type": "stream",
          "name": "stdout",
          "text": [
            "A\n"
          ]
        }
      ]
    },
    {
      "cell_type": "code",
      "metadata": {
        "id": "GcgXxEYAk_kP"
      },
      "source": [
        "TupOfTup = (\"A\",(SimpleTup))"
      ],
      "execution_count": 3,
      "outputs": []
    },
    {
      "cell_type": "code",
      "metadata": {
        "colab": {
          "base_uri": "https://localhost:8080/"
        },
        "id": "gZ5RbP__lDx-",
        "outputId": "85a5c5c0-fc21-4472-ccff-9eca21500d58"
      },
      "source": [
        "print(TupOfTup[1][0])"
      ],
      "execution_count": 7,
      "outputs": [
        {
          "output_type": "stream",
          "name": "stdout",
          "text": [
            "A\n"
          ]
        }
      ]
    }
  ]
}